{
 "cells": [
  {
   "cell_type": "markdown",
   "id": "971748d6",
   "metadata": {
    "pycharm": {
     "name": "#%% md\n"
    }
   },
   "source": [
    "<p align = \"center\" draggable=”false” ><img src=\"https://user-images.githubusercontent.com/37101144/161836199-fdb0219d-0361-4988-bf26-48b0fad160a3.png\" \n",
    "     width=\"200px\"\n",
    "     height=\"auto\"/>\n",
    "</p>"
   ]
  },
  {
   "cell_type": "markdown",
   "id": "82694370",
   "metadata": {
    "pycharm": {
     "name": "#%% md\n"
    }
   },
   "source": [
    "# 🛍️ Launch New Products"
   ]
  },
  {
   "cell_type": "markdown",
   "id": "e9dde4c6",
   "metadata": {
    "pycharm": {
     "name": "#%% md\n"
    }
   },
   "source": [
    "Today you are a machine learning engineer at the Department of New Products at Target Cosmetics! \n",
    "\n",
    "We will start with a small dataset on interactions between users and current products from the past and try to discover substructure, if there's any, by applying some **unsupervised learning** methods. \n",
    "\n",
    "Then we will leverage the small amount of labeled data (current products) in combination with a larger amount of unlabeled data (new products to launch) to make estimations as to which products will sell more. "
   ]
  },
  {
   "cell_type": "markdown",
   "id": "653e62c8",
   "metadata": {
    "pycharm": {
     "name": "#%% md\n"
    }
   },
   "source": [
    "## 📚 Learning Objectives"
   ]
  },
  {
   "cell_type": "markdown",
   "id": "10907851",
   "metadata": {
    "pycharm": {
     "name": "#%% md\n"
    }
   },
   "source": [
    "By the end of this session, you will be able to:\n",
    "\n",
    "- apply dimensionality reduction techniques to reduce features to a lower dimensional space\n",
    "- perform customer segmentation, determine optional number of clusters, and understand assumptions for used algorithm\n",
    "- understand what semi-supervised learning is and leverage it to improve performance of supervised learning"
   ]
  },
  {
   "cell_type": "markdown",
   "id": "2869071e",
   "metadata": {
    "pycharm": {
     "name": "#%% md\n"
    }
   },
   "source": [
    "## Task 1. Dimensionality Reduction"
   ]
  },
  {
   "cell_type": "markdown",
   "id": "dec7505e",
   "metadata": {
    "pycharm": {
     "name": "#%% md\n"
    }
   },
   "source": [
    "1. Load in the data. \n",
    "    \n",
    "    Import `pandas` as `pd` and use `pd.read_csv()` to read in `past.csv.gz` in the `dat` folder, saving it as `past`. \n",
    "    \n",
    "    Data in `past.csv.gz` was propcessed; e.g., features indicating time of day, day of week, month, and year of the purchase have been converted to one-hot representations of these categories. "
   ]
  },
  {
   "cell_type": "code",
   "execution_count": 227,
   "id": "d63ee4f8",
   "metadata": {
    "pycharm": {
     "name": "#%%\n"
    }
   },
   "outputs": [
    {
     "data": {
      "text/plain": "      product_id       user_id  NumOfEventsInJourney  NumSessions  \\\n4995     5610082  5.853313e+08              1.500000     1.000000   \n4996     5770265  5.124349e+08              1.954545     1.363636   \n4997     5923106  4.427739e+08              1.000000     1.000000   \n4998     5889691  6.104029e+08              2.000000     1.000000   \n4999     5853603  4.144132e+08              1.333333     1.333333   \n\n      interactionTime  maxPrice  minPrice   NumCart   NumView  NumRemove  ...  \\\n4995        77.000000  0.790000  0.790000  0.500000  0.500000   0.000000  ...   \n4996    348649.090909  2.972727  2.972727  0.636364  0.681818   0.590909  ...   \n4997         0.000000  0.000000  0.000000  0.000000  1.000000   0.000000  ...   \n4998       766.000000  8.250000  8.250000  1.000000  0.000000   0.000000  ...   \n4999     23389.000000  5.426667  5.426667  0.333333  0.666667   0.333333  ...   \n\n           Dec  Afternoon      Dawn  EarlyMorning   Evening   Morning  \\\n4995  0.000000   0.500000  0.000000      0.500000  0.000000  0.000000   \n4996  0.272727   0.136364  0.045455      0.181818  0.409091  0.045455   \n4997  0.000000   1.000000  0.000000      0.000000  0.000000  0.000000   \n4998  0.000000   1.000000  0.000000      0.000000  0.000000  0.000000   \n4999  0.000000   0.000000  0.000000      0.333333  0.000000  0.333333   \n\n         Night  Purchased?      Noon  Category  \n4995  0.000000           0  0.000000  1.000000  \n4996  0.090909           1  0.090909  1.045455  \n4997  0.000000           0  0.000000  1.000000  \n4998  0.000000           0  0.000000  1.000000  \n4999  0.000000           0  0.333333  1.000000  \n\n[5 rows x 37 columns]",
      "text/html": "<div>\n<style scoped>\n    .dataframe tbody tr th:only-of-type {\n        vertical-align: middle;\n    }\n\n    .dataframe tbody tr th {\n        vertical-align: top;\n    }\n\n    .dataframe thead th {\n        text-align: right;\n    }\n</style>\n<table border=\"1\" class=\"dataframe\">\n  <thead>\n    <tr style=\"text-align: right;\">\n      <th></th>\n      <th>product_id</th>\n      <th>user_id</th>\n      <th>NumOfEventsInJourney</th>\n      <th>NumSessions</th>\n      <th>interactionTime</th>\n      <th>maxPrice</th>\n      <th>minPrice</th>\n      <th>NumCart</th>\n      <th>NumView</th>\n      <th>NumRemove</th>\n      <th>...</th>\n      <th>Dec</th>\n      <th>Afternoon</th>\n      <th>Dawn</th>\n      <th>EarlyMorning</th>\n      <th>Evening</th>\n      <th>Morning</th>\n      <th>Night</th>\n      <th>Purchased?</th>\n      <th>Noon</th>\n      <th>Category</th>\n    </tr>\n  </thead>\n  <tbody>\n    <tr>\n      <th>4995</th>\n      <td>5610082</td>\n      <td>5.853313e+08</td>\n      <td>1.500000</td>\n      <td>1.000000</td>\n      <td>77.000000</td>\n      <td>0.790000</td>\n      <td>0.790000</td>\n      <td>0.500000</td>\n      <td>0.500000</td>\n      <td>0.000000</td>\n      <td>...</td>\n      <td>0.000000</td>\n      <td>0.500000</td>\n      <td>0.000000</td>\n      <td>0.500000</td>\n      <td>0.000000</td>\n      <td>0.000000</td>\n      <td>0.000000</td>\n      <td>0</td>\n      <td>0.000000</td>\n      <td>1.000000</td>\n    </tr>\n    <tr>\n      <th>4996</th>\n      <td>5770265</td>\n      <td>5.124349e+08</td>\n      <td>1.954545</td>\n      <td>1.363636</td>\n      <td>348649.090909</td>\n      <td>2.972727</td>\n      <td>2.972727</td>\n      <td>0.636364</td>\n      <td>0.681818</td>\n      <td>0.590909</td>\n      <td>...</td>\n      <td>0.272727</td>\n      <td>0.136364</td>\n      <td>0.045455</td>\n      <td>0.181818</td>\n      <td>0.409091</td>\n      <td>0.045455</td>\n      <td>0.090909</td>\n      <td>1</td>\n      <td>0.090909</td>\n      <td>1.045455</td>\n    </tr>\n    <tr>\n      <th>4997</th>\n      <td>5923106</td>\n      <td>4.427739e+08</td>\n      <td>1.000000</td>\n      <td>1.000000</td>\n      <td>0.000000</td>\n      <td>0.000000</td>\n      <td>0.000000</td>\n      <td>0.000000</td>\n      <td>1.000000</td>\n      <td>0.000000</td>\n      <td>...</td>\n      <td>0.000000</td>\n      <td>1.000000</td>\n      <td>0.000000</td>\n      <td>0.000000</td>\n      <td>0.000000</td>\n      <td>0.000000</td>\n      <td>0.000000</td>\n      <td>0</td>\n      <td>0.000000</td>\n      <td>1.000000</td>\n    </tr>\n    <tr>\n      <th>4998</th>\n      <td>5889691</td>\n      <td>6.104029e+08</td>\n      <td>2.000000</td>\n      <td>1.000000</td>\n      <td>766.000000</td>\n      <td>8.250000</td>\n      <td>8.250000</td>\n      <td>1.000000</td>\n      <td>0.000000</td>\n      <td>0.000000</td>\n      <td>...</td>\n      <td>0.000000</td>\n      <td>1.000000</td>\n      <td>0.000000</td>\n      <td>0.000000</td>\n      <td>0.000000</td>\n      <td>0.000000</td>\n      <td>0.000000</td>\n      <td>0</td>\n      <td>0.000000</td>\n      <td>1.000000</td>\n    </tr>\n    <tr>\n      <th>4999</th>\n      <td>5853603</td>\n      <td>4.144132e+08</td>\n      <td>1.333333</td>\n      <td>1.333333</td>\n      <td>23389.000000</td>\n      <td>5.426667</td>\n      <td>5.426667</td>\n      <td>0.333333</td>\n      <td>0.666667</td>\n      <td>0.333333</td>\n      <td>...</td>\n      <td>0.000000</td>\n      <td>0.000000</td>\n      <td>0.000000</td>\n      <td>0.333333</td>\n      <td>0.000000</td>\n      <td>0.333333</td>\n      <td>0.000000</td>\n      <td>0</td>\n      <td>0.333333</td>\n      <td>1.000000</td>\n    </tr>\n  </tbody>\n</table>\n<p>5 rows × 37 columns</p>\n</div>"
     },
     "execution_count": 227,
     "metadata": {},
     "output_type": "execute_result"
    }
   ],
   "source": [
    "# YOUR CODE HERE\n",
    "import pandas as pd\n",
    "past = pd.read_csv('../dat/past.csv.gz')\n",
    "past.tail()"
   ]
  },
  {
   "cell_type": "markdown",
   "id": "2c21ec92",
   "metadata": {
    "pycharm": {
     "name": "#%% md\n"
    }
   },
   "source": [
    "<details>\n",
    "<summary> Expected output </summary>\n",
    "\n",
    "```\n",
    "Index(['product_id', 'user_id', 'NumOfEventsInJourney', 'NumSessions',\n",
    "       'interactionTime', 'maxPrice', 'minPrice', 'NumCart', 'NumView',\n",
    "       'NumRemove', 'InsessionCart', 'InsessionView', 'InsessionRemove',\n",
    "       'Weekend', 'Fr', 'Mon', 'Sat', 'Sun', 'Thu', 'Tue', 'Wed', '2019',\n",
    "       '2020', 'Jan', 'Feb', 'Oct', 'Nov', 'Dec', 'Afternoon', 'Dawn',\n",
    "       'EarlyMorning', 'Evening', 'Morning', 'Night', 'Purchased?', 'Noon',\n",
    "       'Category'],\n",
    "      dtype='object')\n",
    "```\n",
    "</details>"
   ]
  },
  {
   "cell_type": "markdown",
   "id": "fec9671a",
   "metadata": {
    "pycharm": {
     "name": "#%% md\n"
    }
   },
   "source": [
    "2. What percentage of the interactions (rows) resulted in a purchase?\n",
    "\n",
    "    Do people mostly buy what they look at or do they do a lot of \"window shopping\" (shopping around without buying)?\n",
    "    \n",
    "    From the perspective of classification, is the data balanced?\n",
    "\n",
    "*Answer: Mostly window shopping since about 66% of the data corresponds to non-purchases (see cell below). From the perspective of the classification, the data is not balanced.*\n"
   ]
  },
  {
   "cell_type": "code",
   "execution_count": 228,
   "id": "4acf13b8",
   "metadata": {
    "pycharm": {
     "name": "#%%\n"
    }
   },
   "outputs": [
    {
     "name": "stdout",
     "output_type": "stream",
     "text": [
      "34.38% of the interactions resulted in a purchase.\n",
      "65.62% of the interactions did not result in a purchase.\n"
     ]
    }
   ],
   "source": [
    "# YOUR CODE HERE\n",
    "purchased = past.loc[past['Purchased?'] ==1 ]\n",
    "Total = past.loc[past['Purchased?']]\n",
    "purchased_percentage = len(purchased)/len(Total) * 100\n",
    "\n",
    "print(f'{purchased_percentage}% of the interactions resulted in a purchase.')\n",
    "print(f'{100 - purchased_percentage}% of the interactions did not result in a purchase.')"
   ]
  },
  {
   "cell_type": "markdown",
   "id": "560d940e",
   "metadata": {
    "pycharm": {
     "name": "#%% md\n"
    }
   },
   "source": [
    "3. Drop `product_id` and `user_id` and save the rest columns to a new `pd.DataFrame`:`X`; then pop the column `'Purchased?'` and save it to `y`."
   ]
  },
  {
   "cell_type": "code",
   "execution_count": 229,
   "id": "d72fed18",
   "metadata": {
    "pycharm": {
     "name": "#%%\n"
    }
   },
   "outputs": [],
   "source": [
    "drop_cols = ['product_id', 'user_id']\n",
    "X = past.drop(drop_cols, axis=1, inplace = False)\n",
    "y = X.pop('Purchased?')"
   ]
  },
  {
   "cell_type": "code",
   "execution_count": 230,
   "id": "7c2b48ba",
   "metadata": {
    "pycharm": {
     "name": "#%%\n"
    }
   },
   "outputs": [],
   "source": [
    "assert X.shape == (5000, 34)\n",
    "assert y.shape == (5000,)"
   ]
  },
  {
   "cell_type": "markdown",
   "id": "8d487454",
   "metadata": {
    "pycharm": {
     "name": "#%% md\n"
    }
   },
   "source": [
    "4. Apply [PCA (check documentation if unfamiliar)](https://scikit-learn.org/stable/modules/generated/sklearn.decomposition.PCA.html) to reduce the number of features down to **5**, save it to a numpy array named `X_reduced`. \n",
    "\n",
    "    Do you need to preprocess the data before performing PCA? Quick review [here: Importance of feature scaling](https://scikit-learn.org/stable/auto_examples/preprocessing/plot_scaling_importance.html).\n",
    "    \n",
    "    If time permits, read [Does mean centering or feature scaling affect a Principal Component Analysis?](https://sebastianraschka.com/faq/docs/pca-scaling.html) or [discussion 1](https://stats.stackexchange.com/questions/53/pca-on-correlation-or-covariance).\n",
    "\n",
    "* Yes, it is better to perform a scaling of the matrix. There is an explanation [here]([Link text Here](https://stackoverflow.com/questions/42024705/should-i-perform-data-centering-before-apply-svd)) from the perspective of computing the singular value decomposition of a matrix, which is\n",
    "the method used by PCA to reduce the dimensionality of the data. Basically, performing SVD on a matrix without scaling the features will lead to some of the features\n",
    "having a larger impact on the magnitude of the singular values, which translates in the PCA algorithm to a larger impact on the magnitude of the individual features on the variance\n",
    "or principal components."
   ]
  },
  {
   "cell_type": "code",
   "execution_count": 231,
   "id": "26bf49d6",
   "metadata": {
    "pycharm": {
     "name": "#%%\n"
    }
   },
   "outputs": [],
   "source": [
    "from sklearn.decomposition import PCA\n",
    "from sklearn.preprocessing import StandardScaler\n",
    "\n",
    "scaler = StandardScaler().fit(X)\n",
    "X_scaled = scaler.transform(X)\n",
    "\n",
    "pca = PCA(n_components=5, whiten=True)\n",
    "X_reduced = pca.fit_transform(X_scaled)"
   ]
  },
  {
   "cell_type": "code",
   "execution_count": 232,
   "id": "f60ea4b8",
   "metadata": {
    "pycharm": {
     "name": "#%%\n"
    }
   },
   "outputs": [],
   "source": [
    "assert X_reduced.shape == (5000, 5)"
   ]
  },
  {
   "cell_type": "markdown",
   "id": "ec23808b",
   "metadata": {
    "pycharm": {
     "name": "#%% md\n"
    }
   },
   "source": [
    "Print out the percentage of variance explained by each of the selected components."
   ]
  },
  {
   "cell_type": "code",
   "execution_count": 233,
   "id": "bd43be7c",
   "metadata": {
    "pycharm": {
     "name": "#%%\n"
    }
   },
   "outputs": [
    {
     "name": "stdout",
     "output_type": "stream",
     "text": [
      "[0.10282317 0.0944492  0.06510332 0.0513623  0.04239548]\n"
     ]
    },
    {
     "data": {
      "text/plain": "35.613346151581254"
     },
     "execution_count": 233,
     "metadata": {},
     "output_type": "execute_result"
    }
   ],
   "source": [
    "# YOUR CODE HERE\n",
    "print(pca.explained_variance_ratio_)\n",
    "sum(pca.explained_variance_ratio_*100)"
   ]
  },
  {
   "cell_type": "markdown",
   "id": "fe1c7c62",
   "metadata": {
    "pycharm": {
     "name": "#%% md\n"
    }
   },
   "source": [
    "6. Review code in functions `visualize_2pcs` and `visualize_3pcs` below and visualize first few principal components in 2D and 3D plots, respectively:"
   ]
  },
  {
   "cell_type": "code",
   "execution_count": 234,
   "id": "900548a2",
   "metadata": {
    "pycharm": {
     "name": "#%%\n"
    }
   },
   "outputs": [],
   "source": [
    "import matplotlib.pyplot as plt\n",
    "\n",
    "def visualize_2pcs(pcs, y):\n",
    "    fig, ax = plt.subplots()\n",
    "    plot = plt.scatter(pcs[:,0], pcs[:,1], c=y) \n",
    "    ax.legend(\n",
    "        handles=plot.legend_elements()[0], \n",
    "        labels=['No', 'Yes'])"
   ]
  },
  {
   "cell_type": "code",
   "execution_count": 235,
   "id": "907db47f",
   "metadata": {
    "pycharm": {
     "name": "#%%\n"
    }
   },
   "outputs": [],
   "source": [
    "def visualize_3pcs(pcs, y):\n",
    "    fig, ax = plt.subplots()\n",
    "    ax = fig.add_subplot(projection='3d')\n",
    "    plot = ax.scatter(pcs[:,0], pcs[:,1], pcs[:,2], c=y)\n",
    "    ax.legend(\n",
    "        handles=plot.legend_elements()[0], \n",
    "        labels=['No', 'Yes'])"
   ]
  },
  {
   "cell_type": "code",
   "execution_count": 236,
   "id": "01abccc3",
   "metadata": {
    "pycharm": {
     "name": "#%%\n"
    }
   },
   "outputs": [
    {
     "data": {
      "text/plain": "<Figure size 432x288 with 1 Axes>",
      "image/png": "[encoded data removed]"
     },
     "metadata": {
      "needs_background": "light"
     },
     "output_type": "display_data"
    },
    {
     "data": {
      "text/plain": "<Figure size 432x288 with 2 Axes>",
      "image/png": "[encoded data removed]"
     },
     "metadata": {
      "needs_background": "light"
     },
     "output_type": "display_data"
    }
   ],
   "source": [
    "visualize_2pcs(X_reduced,y)\n",
    "visualize_3pcs(X_reduced,y)\n",
    "# YOUR CODE HERE"
   ]
  },
  {
   "cell_type": "markdown",
   "id": "b9f1e012",
   "metadata": {
    "pycharm": {
     "name": "#%% md\n"
    }
   },
   "source": [
    "7. One way to assess the quality of the dimensionality reduction, when the ground truth is available of course, is comparing the prediction performance using given features vs reduced (engineered) features.\n",
    "\n",
    "    Complete the wrapper function below that\n",
    "    - takes features, target, and a boolean parameter indicating whether to include standardization in the pipeline or not\n",
    "    - split the data into train (80%) and test (20%) datasets, set the random state for spliting at 0\n",
    "    - build a pipeline that \n",
    "\n",
    "        1) preprocessing data using standardization if the `standardize` is `True`; otherwise skip this step\n",
    "        2) apply logistic regression (are the labels balanced? ¡)\n",
    "        \n",
    "    - fit the pipeline using training data\n",
    "    - print the classification report (use `sklearn.metrics.classification_report`) on test data"
   ]
  },
  {
   "cell_type": "code",
   "execution_count": 237,
   "id": "eec382d1",
   "metadata": {
    "pycharm": {
     "name": "#%%\n"
    }
   },
   "outputs": [],
   "source": [
    "# YOUR CODE HERE (imports!)\n",
    "from sklearn.preprocessing import StandardScaler\n",
    "from sklearn.model_selection import train_test_split\n",
    "from sklearn.linear_model import LogisticRegression\n",
    "from sklearn.metrics import classification_report\n",
    "\n",
    "def train(X, y, standardize = True) -> None:\n",
    "    # Split the data\n",
    "    X_train, X_test, y_train, y_test = train_test_split(X, y, test_size=0.2, random_state=0)\n",
    "\n",
    "    # Build the pipeline\n",
    "    if standardize is True:\n",
    "        scaler = StandardScaler().fit(X_train)\n",
    "        X_train = scaler.transform(X_train)\n",
    "        X_test  = scaler.transform(X_test)\n",
    "\n",
    "    clf = LogisticRegression(random_state=0, class_weight='balanced').fit(X_train, y_train)\n",
    "    results = clf.predict(X_test)\n",
    "    target_names = ['No', 'Yes']\n",
    "    print(classification_report(y_test, results, target_names=target_names))\n"
   ]
  },
  {
   "cell_type": "markdown",
   "id": "5b17ae17",
   "metadata": {
    "pycharm": {
     "name": "#%% md\n"
    }
   },
   "source": [
    "Now apply the pipeline on the all the features `X` and review the performance"
   ]
  },
  {
   "cell_type": "code",
   "execution_count": 238,
   "id": "2dfc3392",
   "metadata": {
    "pycharm": {
     "name": "#%%\n"
    }
   },
   "outputs": [
    {
     "name": "stdout",
     "output_type": "stream",
     "text": [
      "              precision    recall  f1-score   support\n",
      "\n",
      "          No       0.75      0.77      0.76       649\n",
      "         Yes       0.55      0.52      0.54       351\n",
      "\n",
      "    accuracy                           0.68      1000\n",
      "   macro avg       0.65      0.65      0.65      1000\n",
      "weighted avg       0.68      0.68      0.68      1000\n",
      "\n"
     ]
    }
   ],
   "source": [
    "train(X, y, True)  #YOUR CODE HERE"
   ]
  },
  {
   "cell_type": "markdown",
   "id": "b18c79f6",
   "metadata": {
    "pycharm": {
     "name": "#%% md\n"
    }
   },
   "source": [
    "Similarly, apply the pipeline on the reduced / engineered features `X_reduced`. Should you include standardization in the pipeline?\n",
    "\n",
    "*I think standardization should not be included in this case because a scaling was already performed for the computation of the PCA. I am not sure though*\n"
   ]
  },
  {
   "cell_type": "code",
   "execution_count": 239,
   "id": "7486aa3b",
   "metadata": {
    "pycharm": {
     "name": "#%%\n"
    }
   },
   "outputs": [
    {
     "name": "stdout",
     "output_type": "stream",
     "text": [
      "              precision    recall  f1-score   support\n",
      "\n",
      "          No       0.74      0.71      0.73       649\n",
      "         Yes       0.50      0.53      0.51       351\n",
      "\n",
      "    accuracy                           0.65      1000\n",
      "   macro avg       0.62      0.62      0.62      1000\n",
      "weighted avg       0.65      0.65      0.65      1000\n",
      "\n"
     ]
    }
   ],
   "source": [
    "train(X_reduced, y, False)\n",
    "# YOUR CODE HERE"
   ]
  },
  {
   "cell_type": "markdown",
   "id": "b6cf1219",
   "metadata": {
    "pycharm": {
     "name": "#%% md\n"
    }
   },
   "source": [
    "8. Are the results as expected? Discuss the pros and cons using reduced set of features in this application with your\n",
    "teammate.\n",
    "The results are not completely as I expected them, because the explained variance of the PCA model is not so high (total of 35%), but the reduced model metrics are very close to the ones of the ones of the unreduced model. But in this case the visualization shows that in 2D and 3D the classes don't seem to be separated well, which partially explains that the classification with a logistic regression model might not perform well. This might change when going to higher dimensions though, but we cannot visualize this.\n",
    "\n",
    "- *One advantage is that logistic regression on the reduced model should be less expensive, so for a larger dataset where computing a logistic regression on the full dataset this could reduce the computational cost.*\n",
    "- *One disadvantage is that the PCA with only 5 components is not very accurate (the total explained variance ratio is about 35%) so it might to be a good idea to use more components and then train the logistic regression on the reduced set of (more) features.*\n",
    "- *One big disadvantage is that the set of (orthogonal) features computed with the PCA is not explainable.*"
   ]
  },
  {
   "cell_type": "markdown",
   "id": "21cc9707",
   "metadata": {
    "pycharm": {
     "name": "#%% md\n"
    }
   },
   "source": [
    "## Task 2. Customer Segmentation"
   ]
  },
  {
   "cell_type": "markdown",
   "id": "80a1a95d",
   "metadata": {
    "pycharm": {
     "name": "#%% md\n"
    }
   },
   "source": [
    "In this task, we apply k-means clustering on the reduced data, experimenting different values of `n_cluster`, summarize all this information in a single plot, the *Elbow* plot. In addition, leverage silhouette visualization to help decide the \"optimal\" number of clusters in our data and answer:\n",
    "\n",
    "1. Are there any patterns among customer purchasing behaviors?\n",
    "2. If so, what categories do they belong to? How do you characterize the clusters?\n",
    "3. If not, what followup steps and / or recommendations will you make as an MLE?"
   ]
  },
  {
   "cell_type": "markdown",
   "id": "1b6dc7fd",
   "metadata": {
    "pycharm": {
     "name": "#%% md\n"
    }
   },
   "source": [
    "4. Look up the [documentation](https://scikit-learn.org/stable/modules/clustering.html) and import the model class for k-means from `sklearn.cluster`"
   ]
  },
  {
   "cell_type": "code",
   "execution_count": 240,
   "id": "7fbbf216",
   "metadata": {
    "pycharm": {
     "name": "#%%\n"
    }
   },
   "outputs": [],
   "source": [
    "from sklearn.cluster import KMeans\n",
    "import numpy as np\n",
    "import matplotlib.pyplot as plt"
   ]
  },
  {
   "cell_type": "markdown",
   "id": "9a4a915b",
   "metadata": {
    "pycharm": {
     "name": "#%% md\n"
    }
   },
   "source": [
    "5. Complete `visualize_elbow`; inspect the code and complete\n",
    "\n",
    "    - fit k-means on the given data `X` and `k`, setting `random_state` to be 10 for reproducibility\n",
    "    - append the sum of squared distances of samples to their closest cluster center for each $k$ to list `inertias`"
   ]
  },
  {
   "cell_type": "code",
   "execution_count": 241,
   "id": "d2338ea5",
   "metadata": {
    "pycharm": {
     "name": "#%%\n"
    }
   },
   "outputs": [],
   "source": [
    "def visualize_elbow(X, ks):\n",
    "    fig, ax = plt.subplots()\n",
    "    inertias = [0]*len(ks)\n",
    "    for index, k in enumerate(ks):\n",
    "        kmeans = KMeans(n_clusters=k, random_state=10).fit(X)\n",
    "        inertias[index] = kmeans.inertia_ # Inertia: Sum of distances of samples to their closest cluster center\n",
    "    plt.plot(ks, inertias/np.max(np.asarray(inertias)))\n",
    "    plt.xticks(ks)\n",
    "    plt.xlabel('Number of clusters')\n",
    "    plt.ylabel('Inertia')\n",
    "    plt.title('Elbow plot')"
   ]
  },
  {
   "cell_type": "markdown",
   "id": "62bc7db3",
   "metadata": {
    "pycharm": {
     "name": "#%% md\n"
    }
   },
   "source": [
    "6. Visualize the elbow plot for the number of clusters ranging between 2 and 9. Discuss with your teammate, what is the 'optimal' number of clusters?"
   ]
  },
  {
   "cell_type": "code",
   "execution_count": 242,
   "id": "9de40c6e",
   "metadata": {
    "pycharm": {
     "name": "#%%\n"
    }
   },
   "outputs": [
    {
     "data": {
      "text/plain": "<Figure size 432x288 with 1 Axes>",
      "image/png": "[encoded data removed]"
     },
     "metadata": {
      "needs_background": "light"
     },
     "output_type": "display_data"
    }
   ],
   "source": [
    "ks = range(2,10)\n",
    "visualize_elbow(X_reduced, ks)"
   ]
  },
  {
   "cell_type": "markdown",
   "source": [
    "7. What are the disadvantage to use the Elbow method?\n",
    "\n",
    "*Answer: It can be hard to visualize the elbow point, especially when the clusters are not well separated*"
   ],
   "metadata": {
    "collapsed": false,
    "pycharm": {
     "name": "#%% md\n"
    }
   }
  },
  {
   "cell_type": "markdown",
   "id": "df38e1e1",
   "metadata": {
    "pycharm": {
     "name": "#%% md\n"
    }
   },
   "source": [
    "5. Let's try a different approach: [silhouette score](https://towardsdatascience.com/clustering-metrics-better-than-the-elbow-method-6926e1f723a6).\n",
    "\n",
    "    A helper function `visualize_silhouette` is provided for you (inspect the code in `utils.py`) and figure out how to use it to visualize k-means for k ranges from 2 to 8 on the reduced data. "
   ]
  },
  {
   "cell_type": "code",
   "execution_count": 243,
   "id": "35d5ac66",
   "metadata": {
    "pycharm": {
     "name": "#%%\n"
    }
   },
   "outputs": [],
   "source": [
    "from utils import visualize_silhouette  # YOUR CODE HERE"
   ]
  },
  {
   "cell_type": "code",
   "execution_count": null,
   "id": "3047c431",
   "metadata": {
    "scrolled": false,
    "pycharm": {
     "name": "#%%\n",
     "is_executing": true
    }
   },
   "outputs": [
    {
     "name": "stdout",
     "output_type": "stream",
     "text": [
      "For n_clusters = 2 The average silhouette_score is : 0.19829110718171805\n",
      "For n_clusters = 3 The average silhouette_score is : 0.20920047291719238\n",
      "For n_clusters = 4 The average silhouette_score is : 0.21960849129429885\n"
     ]
    }
   ],
   "source": [
    "visualize_silhouette(8, np.asarray(X_reduced))# YOUR CODE HERE"
   ]
  },
  {
   "cell_type": "markdown",
   "id": "6adf9e73",
   "metadata": {
    "pycharm": {
     "name": "#%% md\n"
    }
   },
   "source": [
    "6. Instantiate a k-means model using the number of cluster that you deem optimal, assign it to `km`, and fit on the reduced data.\n",
    "*Answer: Ithink the optimal number of clusters is 2, but I am not sure if this is the best answer. It also seems reasonable that the number of clusters is 4, according to the score of the average silhouette score. The choice of 2 is motivated since the thickness of the silhouette plots is uniform for the two clusters and there are no silhouette scores below the average silhouette score. Also, with $n = 3,..., 8$ there are some samples with a negative silhouette scoure which suggests that they have been assigned to the wrong cluster ([reference](https://scikit-learn.org/stable/auto_examples/cluster/plot_kmeans_silhouette_analysis.html)). One thing to note is that the average silhouette scores are low, because the silhouette score normally lies in $(-1,1)$ but none of the average scores is higher than 0.23 and they only differ by a small amount of less than 0.01, so it might be that the K-means method is not a good choice for this data.*"
   ]
  },
  {
   "cell_type": "code",
   "execution_count": null,
   "outputs": [],
   "source": [
    "km = KMeans(n_clusters=2, random_state=10).fit(X_reduced)\n",
    "labels_k2 = km.predict(X_reduced)"
   ],
   "metadata": {
    "collapsed": false,
    "pycharm": {
     "name": "#%%\n",
     "is_executing": true
    }
   }
  },
  {
   "cell_type": "code",
   "execution_count": null,
   "outputs": [],
   "source": [
    "# YOUR CODE HERE\n",
    "count0_k2 = (labels_k2 == 0).sum()\n",
    "count1_k2 = (labels_k2 == 1).sum()\n",
    "\n",
    "print(f'The size of the first cluster is {count0_k2}.')\n",
    "print(f'The size of the second cluster is {count1_k2}.')"
   ],
   "metadata": {
    "collapsed": false,
    "pycharm": {
     "name": "#%%\n",
     "is_executing": true
    }
   }
  },
  {
   "cell_type": "code",
   "execution_count": null,
   "outputs": [],
   "source": [
    "km = KMeans(n_clusters=4, max_iter=300, random_state=10).fit(X_reduced)\n",
    "labels_k4 = km.fit_predict(X_reduced)"
   ],
   "metadata": {
    "collapsed": false,
    "pycharm": {
     "name": "#%%\n",
     "is_executing": true
    }
   }
  },
  {
   "cell_type": "markdown",
   "id": "19b802fa",
   "metadata": {
    "pycharm": {
     "name": "#%% md\n"
    }
   },
   "source": [
    "8. What is the size of each cluster?"
   ]
  },
  {
   "cell_type": "code",
   "execution_count": null,
   "id": "d41df1da",
   "metadata": {
    "pycharm": {
     "name": "#%%\n",
     "is_executing": true
    }
   },
   "outputs": [],
   "source": [
    "# YOUR CODE HERE\n",
    "count0_k4 = (labels_k4 == 0).sum()\n",
    "count1_k4 = (labels_k4 == 1).sum()\n",
    "count2_k4 = (labels_k4 == 2).sum()\n",
    "count3_k4 = (labels_k4 == 3).sum()\n",
    "print(f'The size of the first cluster is {count0_k4}.')\n",
    "print(f'The size of the second cluster is {count1_k4}.')\n",
    "print(f'The size of the third cluster is {count2_k4}.')\n",
    "print(f'The size of the fourth cluster is {count3_k4}.')"
   ]
  },
  {
   "cell_type": "markdown",
   "id": "cfaf3260",
   "metadata": {
    "pycharm": {
     "name": "#%% md\n"
    }
   },
   "source": [
    "9. Create a new column called `cluster_pca` in `past`, with values as predicted cluster index predicted by `km`."
   ]
  },
  {
   "cell_type": "code",
   "execution_count": null,
   "id": "e55328f5",
   "metadata": {
    "pycharm": {
     "name": "#%%\n",
     "is_executing": true
    }
   },
   "outputs": [],
   "source": [
    "past['cluster_pca'] = labels_k2"
   ]
  },
  {
   "cell_type": "markdown",
   "id": "62ea839f",
   "metadata": {
    "pycharm": {
     "name": "#%% md\n"
    }
   },
   "source": [
    "10. Open-ended: manipulate `past` and see if you can characterize each cluster (e.g., calculate statistics of / visualize features for each cluster), how will you intepret the results?\n",
    "     **Note**. This is probably the most important part as far as the business stakeholders are concerned: \"*What can I do with your results?*\" The math, modeling part is relatively easy, compared to actionable recommendations you make for business. Thus, before jumping on a different algorithm for the given task, do you best to 1) understand the data in depth 2) keep buisiness use cases in mind throughout all steps."
   ]
  },
  {
   "cell_type": "code",
   "execution_count": null,
   "id": "1e6bf905",
   "metadata": {
    "pycharm": {
     "name": "#%%\n",
     "is_executing": true
    }
   },
   "outputs": [],
   "source": [
    "r = range(0,2)\n",
    "metrics = {'NumOfEventsInJourney': [], 'NumSessions': [], 'interactionTime':[]}\n",
    "for x in r:\n",
    "   w = past[past['cluster_pca'] == x].describe()\n",
    "   interestingCols = ['NumOfEventsInJourney', 'NumSessions', 'interactionTime']\n",
    "   for index, col in enumerate(interestingCols):\n",
    "       print(interestingCols[index], w[col], sep = '\\n')\n",
    "\n",
    "fig = plt.figure()\n",
    "ax = fig.add_subplot(projection='3d')\n",
    "ax.scatter(past['NumOfEventsInJourney'], past['NumSessions'], past['interactionTime'], c=past['cluster_pca'])\n"
   ]
  },
  {
   "cell_type": "markdown",
   "id": "045163e7",
   "metadata": {
    "pycharm": {
     "name": "#%% md\n"
    }
   },
   "source": [
    "11. What are the assumptions for k-means? Judging by the cluster sizes, is k-means a good approach?\n",
    "\n",
    "*Answer: According to [this reference](https://stats.stackexchange.com/questions/133656/how-to-understand-the-drawbacks-of-k-means):*\n",
    "- *k-means assumes the variance of the distribution of each attribute (variable) is spherical*\n",
    "- *all variables have the same variance*\n",
    "- *the prior probability for all k clusters is the same, i.e., each cluster has roughly equal number of observations*\n",
    "- *The resulting clusters will be convex shaped*\n",
    "\n",
    "*Judging by the cluster sizes when k=2  it does seem like a good approach, but by all other metrics it does not seem like a good approach.\n",
    "When k=4 it does not seems like a good approach juding from the size of the cluster*\n",
    "\n",
    "\n",
    "\n",
    "Scanning the list of [clustering algorithms](https://scikit-learn.org/stable/modules/clustering.html) implemented in scikit-learn, try at least one other algorithm, examine its assumptions, and interpret results.\n",
    "\n",
    "I tried the OPTICS method which tries to find density-based clusters, i.e., clusters are defined as dense regions of data points separated by low-density regions,\n",
    "so not only distances but also density/number of neighbors are used to construct the clusters. This makes it more robust to noise and outliers. It also does not require the number of clusters to be provided in advance.\n"
   ]
  },
  {
   "cell_type": "code",
   "execution_count": null,
   "outputs": [],
   "source": [],
   "metadata": {
    "collapsed": false,
    "pycharm": {
     "name": "#%%\n",
     "is_executing": true
    }
   }
  },
  {
   "cell_type": "code",
   "execution_count": null,
   "id": "90bf70c7",
   "metadata": {
    "pycharm": {
     "name": "#%%\n",
     "is_executing": true
    }
   },
   "outputs": [],
   "source": [
    "\n",
    "from sklearn.cluster import OPTICS\n",
    "\n",
    "optics_model = OPTICS(min_samples = 10, xi = 0.05, min_cluster_size = 0.05, metric = 'manhattan')\n",
    "optics_model.fit(X_reduced)"
   ]
  },
  {
   "cell_type": "code",
   "execution_count": null,
   "outputs": [],
   "source": [
    "print(np.unique(optics_model.labels_))\n"
   ],
   "metadata": {
    "collapsed": false,
    "pycharm": {
     "name": "#%%\n",
     "is_executing": true
    }
   }
  },
  {
   "cell_type": "markdown",
   "id": "f55c9ebd",
   "metadata": {
    "pycharm": {
     "name": "#%% md\n"
    }
   },
   "source": [
    "17. Jot down recommendations or followup steps, detailing the reasons."
   ]
  },
  {
   "cell_type": "markdown",
   "id": "01a41aa0",
   "metadata": {
    "pycharm": {
     "name": "#%% md\n"
    }
   },
   "source": [
    "    *YOUR ANSWER HERE*"
   ]
  },
  {
   "cell_type": "markdown",
   "id": "79f44672",
   "metadata": {
    "pycharm": {
     "name": "#%% md\n"
    }
   },
   "source": [
    "## Task 3. To launch or not to launch?"
   ]
  },
  {
   "cell_type": "markdown",
   "id": "494e9fa9",
   "metadata": {
    "pycharm": {
     "name": "#%% md\n"
    }
   },
   "source": [
    "In this task, we will work on a hypothetical application: cosmetics purchase prediction for new products with limited features. The intention here is to maximize **recall** so that no popular cosmetic is understocked. Overstocking is less of a concern since it will not cause disengagement in customers.\n",
    "\n",
    "The purchase status for each \"new\" product is known, but we only use the labels for benchmarking purpose. Instead, we use label spreading method to leverage a small amount of labeled data in combination with a larger amount of unlabeled data."
   ]
  },
  {
   "cell_type": "markdown",
   "id": "e37a4854",
   "metadata": {
    "pycharm": {
     "name": "#%% md\n"
    }
   },
   "source": [
    "1. Read in the data in `new.csv.gz` and save it as a `pd.DataFrame` named `new`. This is the test dataset.\n",
    "\n",
    "    Look at the shape of `new` and inspect the frist few rows."
   ]
  },
  {
   "cell_type": "code",
   "execution_count": null,
   "id": "57ed0232",
   "metadata": {
    "pycharm": {
     "name": "#%%\n",
     "is_executing": true
    }
   },
   "outputs": [],
   "source": [
    "# YOUR CODE HERE\n",
    "\n",
    "new = pd.read_csv('../dat/new.csv.gz')\n",
    "new.shape\n"
   ]
  },
  {
   "cell_type": "code",
   "execution_count": null,
   "id": "8da7c797",
   "metadata": {
    "pycharm": {
     "name": "#%%\n",
     "is_executing": true
    }
   },
   "outputs": [],
   "source": [
    "assert new.shape == (30091, 5)"
   ]
  },
  {
   "cell_type": "code",
   "execution_count": null,
   "id": "d53a5be6",
   "metadata": {
    "pycharm": {
     "name": "#%%\n",
     "is_executing": true
    }
   },
   "outputs": [],
   "source": [
    "new.head()"
   ]
  },
  {
   "cell_type": "markdown",
   "id": "c7637957",
   "metadata": {
    "pycharm": {
     "name": "#%% md\n"
    }
   },
   "source": [
    "2. How does the number of data points in the training set (`past`) compare to the number of datapoints in the test set (`new`)? \n",
    "\n",
    "    And how does the feature set in the training set compare to the feature set in the test set?"
   ]
  },
  {
   "cell_type": "code",
   "execution_count": null,
   "outputs": [],
   "source": [
    "new.shape"
   ],
   "metadata": {
    "collapsed": false,
    "pycharm": {
     "name": "#%%\n",
     "is_executing": true
    }
   }
  },
  {
   "cell_type": "markdown",
   "id": "1ee95e44",
   "metadata": {
    "pycharm": {
     "name": "#%% md\n"
    }
   },
   "source": [
    "*The number of datapoints in the training set is relatively small while the test set is quite large. The training set (before PCA) has more features than in the test set (34 vs 4).*"
   ]
  },
  {
   "cell_type": "markdown",
   "id": "6b229240",
   "metadata": {
    "pycharm": {
     "name": "#%% md\n"
    }
   },
   "source": [
    "3. Are there any product ids in both the training and test datasets? Hint: use `np.intersect1d` or set operations.\n",
    "No, there aren't any products in both the training and test datasets."
   ]
  },
  {
   "cell_type": "code",
   "execution_count": null,
   "id": "bec1dfec",
   "metadata": {
    "pycharm": {
     "name": "#%%\n",
     "is_executing": true
    }
   },
   "outputs": [],
   "source": [
    "# YOUR CODE HERE\n",
    "np.intersect1d(past.product_id, new.product_id)\n"
   ]
  },
  {
   "cell_type": "markdown",
   "id": "06769b43",
   "metadata": {
    "pycharm": {
     "name": "#%% md\n"
    }
   },
   "source": [
    "5. What percentage of data points resulted in a purchase in the test set?\n",
    "\n",
    "    In reality, we won't be able to calculate information that is not available to you. Here, we simply demonstrated that the distributions in target between `past` and `new` are similar. "
   ]
  },
  {
   "cell_type": "code",
   "execution_count": null,
   "id": "39aa4615",
   "metadata": {
    "scrolled": true,
    "pycharm": {
     "name": "#%%\n",
     "is_executing": true
    }
   },
   "outputs": [],
   "source": [
    "# YOUR CODE HERE #\n",
    "purchased_percentage = new['Purchased?'].sum()/new.shape[0]*100\n",
    "\n",
    "print(f'The percentage of data points resulting in a purchase in the test set is {purchased_percentage}%')\n",
    "# ~.344"
   ]
  },
  {
   "cell_type": "markdown",
   "id": "34ae7223",
   "metadata": {
    "pycharm": {
     "name": "#%% md\n"
    }
   },
   "source": [
    "6. Create `ndarray`s: `X_train`, `y_train`, `X_test`, and `y_test` according to the following guidelines.\n",
    "\n",
    "    - The `Purchased?` column is the target.\n",
    "    - `X_train` and `X_test` should contain the same features\n",
    "    - `product_id` should not be a feature.\n",
    "\n",
    "    Double check that the shapes of the four arrays are what you expect."
   ]
  },
  {
   "cell_type": "code",
   "execution_count": null,
   "id": "5badbca1",
   "metadata": {
    "pycharm": {
     "name": "#%%\n",
     "is_executing": true
    }
   },
   "outputs": [],
   "source": [
    "# YOUR CODE HERE\n",
    "cols = new.columns\n",
    "target_col = 'Purchased?'\n",
    "X_train = past.copy()[cols].drop(['product_id'], axis = 1)\n",
    "y_train = X_train.pop(target_col)\n",
    "X_test = new.copy()[cols].drop(['product_id'], axis = 1)\n",
    "y_test = X_test.pop(target_col)\n",
    "\n",
    "\n",
    "X_train = np.asarray(X_train)\n",
    "y_train = np.asarray(y_train)\n",
    "X_test = np.asarray(X_test)\n",
    "y_test = np.asarray(y_test)\n",
    "\n",
    "print(X_train.shape)\n",
    "print(X_test.shape)\n",
    "print(y_train.shape)\n",
    "print(y_test.shape)"
   ]
  },
  {
   "cell_type": "code",
   "execution_count": null,
   "id": "d8dfb6ab",
   "metadata": {
    "pycharm": {
     "name": "#%%\n",
     "is_executing": true
    }
   },
   "outputs": [],
   "source": [
    "assert X_train.shape[0] == y_train.shape[0] # 5000\n",
    "assert X_train.shape[1] == X_test.shape[1]  # 3\n",
    "\n",
    "assert type(X_train) == np.ndarray # make sure you import numpy as np at this point\n",
    "assert type(X_train).__module__ == type(y_train).__module__ == np.__name__  # alternative way"
   ]
  },
  {
   "cell_type": "markdown",
   "id": "25dd22e5",
   "metadata": {
    "pycharm": {
     "name": "#%% md\n"
    }
   },
   "source": [
    "7. Let's fit a simple logistic regression on the training set (`X_train`, `y_train`) and report performance on the test set (`X_test`, `y_test`)."
   ]
  },
  {
   "cell_type": "code",
   "execution_count": null,
   "id": "33eea84d",
   "metadata": {
    "pycharm": {
     "name": "#%%\n",
     "is_executing": true
    }
   },
   "outputs": [],
   "source": [
    "clf = LogisticRegression(class_weight = 'balanced', random_state=42, max_iter = 1000)\n",
    "clf.fit(X_train, y_train)\n",
    "y_pred = clf.predict(X_test)\n",
    "print(classification_report(y_test, y_pred))\n"
   ]
  },
  {
   "cell_type": "markdown",
   "id": "f8a805e6",
   "metadata": {
    "pycharm": {
     "name": "#%% md\n"
    }
   },
   "source": [
    "8. Re-assemble data for semi-supervised learning.\n",
    "    - Use the features from the test set along with the features from the training set. \n",
    "    - Only use the labels from the training set but none from the test set.  \n",
    "    \n",
    "    Since we're using a large number of sampled features, but only a small number of these samples have labels, this is **semi-supervised learning**."
   ]
  },
  {
   "cell_type": "markdown",
   "id": "a2aa8a29",
   "metadata": {
    "pycharm": {
     "name": "#%% md\n"
    }
   },
   "source": [
    "Create a matrix `X` that has the rows from `X_train` concatenated with the rows from `X_test`. Check the shape of the matrix."
   ]
  },
  {
   "cell_type": "code",
   "execution_count": null,
   "id": "59d3585a",
   "metadata": {
    "pycharm": {
     "name": "#%%\n",
     "is_executing": true
    }
   },
   "outputs": [],
   "source": [
    "# YOUR CODE HERE\n",
    "X = np.concatenate((X_train, X_test), axis = 0)"
   ]
  },
  {
   "cell_type": "code",
   "execution_count": null,
   "id": "c67d4d7b",
   "metadata": {
    "pycharm": {
     "name": "#%%\n",
     "is_executing": true
    }
   },
   "outputs": [],
   "source": [
    "assert X.shape == (35091, 3)"
   ]
  },
  {
   "cell_type": "markdown",
   "id": "b1dabc7c",
   "metadata": {
    "pycharm": {
     "name": "#%% md\n"
    }
   },
   "source": [
    "Create the target array `y` by concatenating `y_train` with a vector of -1's, effectively creating a dummy label for the `X_test` rows in `X`. Check the shape of the array. It should have as many values as `X` has rows."
   ]
  },
  {
   "cell_type": "code",
   "execution_count": null,
   "id": "5eec0b7f",
   "metadata": {
    "pycharm": {
     "name": "#%%\n",
     "is_executing": true
    }
   },
   "outputs": [],
   "source": [
    "vec = -1*np.ones(X_test.shape[0])\n",
    "y = np.concatenate((y_train, vec), axis = 0)"
   ]
  },
  {
   "cell_type": "code",
   "execution_count": null,
   "id": "17318009",
   "metadata": {
    "pycharm": {
     "name": "#%%\n",
     "is_executing": true
    }
   },
   "outputs": [],
   "source": [
    "assert X.shape[0] == y.shape[0]"
   ]
  },
  {
   "cell_type": "markdown",
   "id": "ee27528c",
   "metadata": {
    "pycharm": {
     "name": "#%% md\n"
    }
   },
   "source": [
    "8. Semi-supervised learning. \n",
    "\n",
    "    Scikit-learn provides two label propagation models: [`LabelPropagation`](https://scikit-learn.org/stable/modules/generated/sklearn.semi_supervised.LabelPropagation.html) and [`LabelSpreading`](https://scikit-learn.org/stable/modules/generated/sklearn.semi_supervised.LabelSpreading.html). Both work by constructing a similarity graph over all items in the input dataset. `LabelSpreading` is similar to the basic Label Propagation algorithm, but it uses an affinity matrix based on the normalized graph Laplacian and soft clamping across the labels; thus more robust to noise. We will be using scikit-learn's `LabelSpreading` model with `kNN`.\n",
    "    \n",
    "    Train a `LabelSpreading` model. Set `kernel` to `knn` and `alpha` to 0.01."
   ]
  },
  {
   "cell_type": "code",
   "execution_count": null,
   "id": "9b4ee882",
   "metadata": {
    "pycharm": {
     "name": "#%%\n",
     "is_executing": true
    }
   },
   "outputs": [],
   "source": [
    "from sklearn.semi_supervised import LabelSpreading\n",
    "\n",
    "label_p = LabelSpreading(kernel='knn', alpha=0.01)\n",
    "label_p.fit(X, y)"
   ]
  },
  {
   "cell_type": "markdown",
   "id": "1095f805",
   "metadata": {
    "pycharm": {
     "name": "#%% md\n"
    }
   },
   "source": [
    "9. Extract the predictions for the test data. \n",
    "\n",
    "    You can get the predictions from the `transduction_` attribute. Note that there is a value for every row in `X`, so select just the values that correspond to `X_test`."
   ]
  },
  {
   "cell_type": "code",
   "execution_count": null,
   "id": "ebc64f3a",
   "metadata": {
    "pycharm": {
     "name": "#%%\n",
     "is_executing": true
    }
   },
   "outputs": [],
   "source": [
    "semi_sup_preds = label_p.transduction_[X_train.shape[0]:] # We only select the values that correspond to X_test"
   ]
  },
  {
   "cell_type": "code",
   "execution_count": null,
   "id": "0c71554f",
   "metadata": {
    "pycharm": {
     "name": "#%%\n",
     "is_executing": true
    }
   },
   "outputs": [],
   "source": [
    "assert semi_sup_preds.shape[0] == X_test.shape[0]"
   ]
  },
  {
   "cell_type": "markdown",
   "id": "e31745e2",
   "metadata": {
    "pycharm": {
     "name": "#%% md\n"
    }
   },
   "source": [
    "10. Print the classification report"
   ]
  },
  {
   "cell_type": "code",
   "execution_count": null,
   "id": "79e8fb50",
   "metadata": {
    "pycharm": {
     "name": "#%%\n",
     "is_executing": true
    }
   },
   "outputs": [],
   "source": [
    "print(classification_report(y_test, semi_sup_preds)) # make sure you properly import classification_report"
   ]
  },
  {
   "cell_type": "markdown",
   "id": "f87a48ab",
   "metadata": {
    "pycharm": {
     "name": "#%% md\n"
    }
   },
   "source": [
    "Let's bring the performance from the supervised learning model down to see the comparison; discuss the areas of improvement and reasons for improvement."
   ]
  },
  {
   "cell_type": "code",
   "execution_count": null,
   "id": "e4f32dd6",
   "metadata": {
    "pycharm": {
     "name": "#%%\n",
     "is_executing": true
    }
   },
   "outputs": [],
   "source": [
    "print(classification_report(y_test, y_pred))"
   ]
  },
  {
   "cell_type": "markdown",
   "id": "8f1ee798",
   "metadata": {
    "pycharm": {
     "name": "#%% md\n"
    }
   },
   "source": [
    "The semi-supervised learning model was able to predict the labels for the test set much better than the logistic regression. In this case a small dataset of labeled data was used to label a larger dataset with a label spreading technique. In the logistic regression we were only using a small dataset to train the model compared to the semi-supervised learning model, which explains the improved performance."
   ]
  },
  {
   "cell_type": "markdown",
   "id": "4fbc9772",
   "metadata": {
    "pycharm": {
     "name": "#%% md\n"
    }
   },
   "source": [
    "11. Read [Small Data Can Play a Big Role in AI](https://hbr.org/2020/02/small-data-can-play-a-big-role-in-ai) and discuss with your teammate about AI tools for training AI with small data and their use cases. "
   ]
  },
  {
   "cell_type": "markdown",
   "id": "78da2390",
   "metadata": {
    "pycharm": {
     "name": "#%% md\n"
    }
   },
   "source": [
    "## Acknowledgement & References"
   ]
  },
  {
   "cell_type": "markdown",
   "source": [
    "- data was adapted from Kaggle: [eCommerce Events History in Cosmetics Shop](https://www.kaggle.com/mkechinov/ecommerce-events-history-in-cosmetics-shop)\n",
    "- function `visualize_silhouette` was adapted from [plot_kmeans_silhouette_analysis by scikit-learn](https://scikit-learn.org/stable/auto_examples/cluster/plot_kmeans_silhouette_analysis.html)\n",
    "- [Categorizing Online Shopping Behavior from Cosmetics to Electronics: An Analytical Framework](https://arxiv.org/pdf/2010.02503.pdf)\n",
    "- [OPAM: Online Purchasing-behavior Analysis using Machine learning](https://arxiv.org/pdf/2102.01625.pdf)"
   ],
   "metadata": {
    "collapsed": false,
    "pycharm": {
     "name": "#%% md\n"
    }
   }
  },
  {
   "cell_type": "code",
   "execution_count": null,
   "outputs": [],
   "source": [],
   "metadata": {
    "collapsed": false,
    "pycharm": {
     "name": "#%%\n",
     "is_executing": true
    }
   }
  }
 ],
 "metadata": {
  "kernelspec": {
   "display_name": "Python 3.9.12 ('base')",
   "language": "python",
   "name": "python3"
  },
  "language_info": {
   "codemirror_mode": {
    "name": "ipython",
    "version": 3
   },
   "file_extension": ".py",
   "mimetype": "text/x-python",
   "name": "python",
   "nbconvert_exporter": "python",
   "pygments_lexer": "ipython3",
   "version": "3.9.12"
  },
  "toc": {
   "base_numbering": 1,
   "nav_menu": {},
   "number_sections": true,
   "sideBar": true,
   "skip_h1_title": false,
   "title_cell": "Table of Contents",
   "title_sidebar": "Contents",
   "toc_cell": false,
   "toc_position": {},
   "toc_section_display": true,
   "toc_window_display": true
  },
  "vscode": {
   "interpreter": {
    "hash": "f70fe2e7e7cb52bf2bf0a2d8cc8af5768efe1556307d7c8f07dd0e6b20b16428"
   }
  }
 },
 "nbformat": 4,
 "nbformat_minor": 5
}